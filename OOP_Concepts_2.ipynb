{
  "nbformat": 4,
  "nbformat_minor": 0,
  "metadata": {
    "colab": {
      "name": "OOP Concepts 2.ipynb",
      "provenance": [],
      "authorship_tag": "ABX9TyOp8YEs1EL0plnE3+AfI7FS",
      "include_colab_link": true
    },
    "kernelspec": {
      "name": "python3",
      "display_name": "Python 3"
    },
    "language_info": {
      "name": "python"
    }
  },
  "cells": [
    {
      "cell_type": "markdown",
      "metadata": {
        "id": "view-in-github",
        "colab_type": "text"
      },
      "source": [
        "<a href=\"https://colab.research.google.com/github/wellaboriol/OOP-1-2/blob/main/OOP_Concepts_2.ipynb\" target=\"_parent\"><img src=\"https://colab.research.google.com/assets/colab-badge.svg\" alt=\"Open In Colab\"/></a>"
      ]
    },
    {
      "cell_type": "markdown",
      "source": [
        "Instruction: \n",
        "\n",
        "1.\tCreate a Python program that displays the name of three students (Student 1, Student 2, and Student 3) and their term grades\n",
        "2.\tCreate a class name Person and attributes – std1, std2, std2, pre, mid, fin\n",
        "3.\tCompute the average of each term grade using Grade() method\n",
        "4.\tInformation about student’s grades must be hidden from others\n",
        "5.\tSave your python program named as “OOP Concepts 2” to your GitHub repository “OOP 1-2”\n",
        "6.\tShare your GitHub link attached with this manuscript.\n"
      ],
      "metadata": {
        "id": "y5IROI_a0wOD"
      }
    },
    {
      "cell_type": "code",
      "source": [
        "class Person():\n",
        "  def __init__(self,std,pre,mid,fin):\n",
        "    self.std = std\n",
        "    self.pre = pre\n",
        "    self.mid = mid\n",
        "    self.fin = fin\n",
        "\n",
        "  def Grade(self):\n",
        "    return round((self.pre + self.mid + self.fin)/3,2)\n",
        "\n",
        "class Seol_Inha(Person):\n",
        "  pass\n",
        "std1 = str(input(\"Student1 Name: \"))\n",
        "pre1 = float(input(\"Enter Prelim Grade: \"))\n",
        "mid1 = float(input(\"Enter Midterm Grade: \"))\n",
        "fin1 = float(input(\"Enter Final Grade: \"))\n",
        "Seol_Inha = Person(std1,pre1,mid1,fin1)\n",
        "print()\n",
        "\n",
        "class Kim_Mingue(Person):\n",
        "  pass\n",
        "std2 = str(input(\"Student2 Name: \"))\n",
        "pre2 = float(input(\"Enter Prelim Grade: \"))\n",
        "mid2 = float(input(\"Enter Midterm Grade: \"))\n",
        "fin2 = float(input(\"Enter Final Grade: \"))\n",
        "Kim_Mingue = Person(std2,pre2,mid2,fin2)\n",
        "print()\n",
        "\n",
        "class Se_Jeong(Person):\n",
        "  pass\n",
        "std3 = str(input(\"Student3 Name: \"))\n",
        "pre3 = float(input(\"Enter Prelim Grade: \"))\n",
        "mid3 = float(input(\"Enter Midterm Grade: \"))\n",
        "fin3 = float(input(\"Enter Final Grade: \"))\n",
        "Se_Jeong = Person(std3,pre3,mid3,fin3)\n",
        "print()\n",
        "\n",
        "Student_Name = str(input(\"Enter name to view student's grade: \"))\n",
        "if Student_Name == std1:\n",
        "  print(\"Average Grade: \", Seol_Inha.Grade())\n",
        "elif Student_Name == std2:\n",
        "  print(\"Average Grade: \", Kim_Mingue.Grade())\n",
        "elif Student_Name == std3:\n",
        "  print(\"Average Grade: \", Se_Jeong.Grade())\n",
        "else:\n",
        "  print(\"Denied Access\")"
      ],
      "metadata": {
        "colab": {
          "base_uri": "https://localhost:8080/"
        },
        "id": "h-Dwf_mG0xXr",
        "outputId": "b698ba6e-15a6-4828-8659-779dc645d33a"
      },
      "execution_count": 8,
      "outputs": [
        {
          "output_type": "stream",
          "name": "stdout",
          "text": [
            "Student1 Name: Seol_Inha\n",
            "Enter Prelim Grade: 89\n",
            "Enter Midterm Grade: 90\n",
            "Enter Final Grade: 91\n",
            "\n",
            "Student2 Name: Kim_Mingue\n",
            "Enter Prelim Grade: 90\n",
            "Enter Midterm Grade: 91\n",
            "Enter Final Grade: 92\n",
            "\n",
            "Student3 Name: Se_Jeong\n",
            "Enter Prelim Grade: 85\n",
            "Enter Midterm Grade: 90\n",
            "Enter Final Grade: 92\n",
            "\n",
            "Enter name to view student's grade: Wella_Boriol\n",
            "Denied Access\n"
          ]
        }
      ]
    }
  ]
}