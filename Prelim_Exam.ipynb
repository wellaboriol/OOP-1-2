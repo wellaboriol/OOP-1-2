{
  "nbformat": 4,
  "nbformat_minor": 0,
  "metadata": {
    "colab": {
      "name": "Prelim Exam.ipynb",
      "provenance": [],
      "collapsed_sections": [],
      "authorship_tag": "ABX9TyNHd4D9eDg7JxPYswWYnPhe",
      "include_colab_link": true
    },
    "kernelspec": {
      "name": "python3",
      "display_name": "Python 3"
    },
    "language_info": {
      "name": "python"
    }
  },
  "cells": [
    {
      "cell_type": "markdown",
      "metadata": {
        "id": "view-in-github",
        "colab_type": "text"
      },
      "source": [
        "<a href=\"https://colab.research.google.com/github/wellaboriol/OOP-1-2/blob/main/Prelim_Exam.ipynb\" target=\"_parent\"><img src=\"https://colab.research.google.com/assets/colab-badge.svg\" alt=\"Open In Colab\"/></a>"
      ]
    },
    {
      "cell_type": "markdown",
      "source": [
        "Problem 2.\n",
        "1. Write a Python to display your full name, student number, age, and course\n",
        "2. Create a class named Student with attributes: Name, Student_No, Age, School,\n",
        "and Course\n",
        "3. Create an object name Myself and assign an instance for each attribute.\n",
        "4. Create a method Info() using an instantiation of a class.\n",
        "5. Insert your GitHub link \"Prelim Exam\" from your repository named \"OOP 1-2\""
      ],
      "metadata": {
        "id": "LKosPoycfFBy"
      }
    },
    {
      "cell_type": "code",
      "source": [
        "class Student:\n",
        "  def __init__(self,Name,Student_No,Age,School,Course):\n",
        "    self.Name = Name\n",
        "    self.Student_No = Student_No\n",
        "    self.Age = Age\n",
        "    self.School = School\n",
        "    self.Course = Course\n",
        "\n",
        "  def Info(self):\n",
        "    print(self.Name,self.Student_No,self.Age,self.School,self.Course)\n",
        "\n",
        "Myself = Student(\"Wella Mae L. Boriol\",202105205,19,\"Cavite State University - Main Campus\",\"Bachelor of Science in Computer Engineering\")\n",
        "\n",
        "print(f\"My name is {Myself.Name}, and my student student number is {Myself.Student_No}. I am {Myself.Age} years old and studying at {Myself.School} with a {Myself.Course}.\")"
      ],
      "metadata": {
        "colab": {
          "base_uri": "https://localhost:8080/"
        },
        "id": "__r5h9YFfTO2",
        "outputId": "02eb96e5-0da7-4032-e211-642b084ce6f0"
      },
      "execution_count": 3,
      "outputs": [
        {
          "output_type": "stream",
          "name": "stdout",
          "text": [
            "My name is Wella Mae L. Boriol, and my student student number is 202105205. I am 19 years old and studying at Cavite State University - Main Campus with a Bachelor of Science in Computer Engineering.\n"
          ]
        }
      ]
    }
  ]
}